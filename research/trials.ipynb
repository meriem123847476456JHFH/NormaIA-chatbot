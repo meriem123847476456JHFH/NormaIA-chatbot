{
 "cells": [
  {
   "cell_type": "code",
   "execution_count": 1,
   "id": "f138f930",
   "metadata": {},
   "outputs": [
    {
     "name": "stdout",
     "output_type": "stream",
     "text": [
      "test\n"
     ]
    }
   ],
   "source": [
    "print(\"test\")"
   ]
  },
  {
   "cell_type": "code",
   "execution_count": 2,
   "id": "2b4ec903",
   "metadata": {},
   "outputs": [
    {
     "data": {
      "text/plain": [
       "'c:\\\\Users\\\\HP\\\\Desktop\\\\doss2\\\\research'"
      ]
     },
     "execution_count": 2,
     "metadata": {},
     "output_type": "execute_result"
    }
   ],
   "source": [
    "%pwd"
   ]
  },
  {
   "cell_type": "code",
   "execution_count": 3,
   "id": "e483f760",
   "metadata": {},
   "outputs": [],
   "source": [
    "import os\n",
    "os.chdir(\"../\")"
   ]
  },
  {
   "cell_type": "code",
   "execution_count": 4,
   "id": "a3b0e556",
   "metadata": {},
   "outputs": [
    {
     "data": {
      "text/plain": [
       "'c:\\\\Users\\\\HP\\\\Desktop\\\\doss2'"
      ]
     },
     "execution_count": 4,
     "metadata": {},
     "output_type": "execute_result"
    }
   ],
   "source": [
    "%pwd"
   ]
  },
  {
   "cell_type": "code",
   "execution_count": 5,
   "id": "622aa622",
   "metadata": {},
   "outputs": [],
   "source": [
    "from langchain.document_loaders import PyPDFLoader, DirectoryLoader\n",
    "from langchain.text_splitter import RecursiveCharacterTextSplitter\n"
   ]
  },
  {
   "cell_type": "code",
   "execution_count": 6,
   "id": "85e3c1db",
   "metadata": {},
   "outputs": [],
   "source": [
    "#Extract Data From the PDF FILE\n",
    "\n",
    "def load_pdf_file(data):\n",
    "    loader= DirectoryLoader(data,\n",
    "                            glob=\"*.pdf\",\n",
    "                            loader_cls=PyPDFLoader)\n",
    "    documents=loader.load()  \n",
    "                          \n",
    "    return documents                                          "
   ]
  },
  {
   "cell_type": "code",
   "execution_count": 7,
   "id": "a159b6d2",
   "metadata": {},
   "outputs": [
    {
     "name": "stdout",
     "output_type": "stream",
     "text": [
      "Requirement already satisfied: langchain in c:\\users\\hp\\anaconda3\\envs\\chatbot\\lib\\site-packages (0.3.23)\n",
      "Requirement already satisfied: langchain-core<1.0.0,>=0.3.51 in c:\\users\\hp\\anaconda3\\envs\\chatbot\\lib\\site-packages (from langchain) (0.3.52)\n",
      "Requirement already satisfied: langchain-text-splitters<1.0.0,>=0.3.8 in c:\\users\\hp\\anaconda3\\envs\\chatbot\\lib\\site-packages (from langchain) (0.3.8)\n",
      "Requirement already satisfied: langsmith<0.4,>=0.1.17 in c:\\users\\hp\\anaconda3\\envs\\chatbot\\lib\\site-packages (from langchain) (0.3.31)\n",
      "Requirement already satisfied: pydantic<3.0.0,>=2.7.4 in c:\\users\\hp\\anaconda3\\envs\\chatbot\\lib\\site-packages (from langchain) (2.11.3)\n",
      "Requirement already satisfied: SQLAlchemy<3,>=1.4 in c:\\users\\hp\\anaconda3\\envs\\chatbot\\lib\\site-packages (from langchain) (2.0.40)\n",
      "Requirement already satisfied: requests<3,>=2 in c:\\users\\hp\\anaconda3\\envs\\chatbot\\lib\\site-packages (from langchain) (2.32.3)\n",
      "Requirement already satisfied: PyYAML>=5.3 in c:\\users\\hp\\anaconda3\\envs\\chatbot\\lib\\site-packages (from langchain) (6.0.2)\n",
      "Requirement already satisfied: async-timeout<5.0.0,>=4.0.0 in c:\\users\\hp\\anaconda3\\envs\\chatbot\\lib\\site-packages (from langchain) (4.0.3)\n",
      "Requirement already satisfied: tenacity!=8.4.0,<10.0.0,>=8.1.0 in c:\\users\\hp\\anaconda3\\envs\\chatbot\\lib\\site-packages (from langchain-core<1.0.0,>=0.3.51->langchain) (9.1.2)\n",
      "Requirement already satisfied: jsonpatch<2.0,>=1.33 in c:\\users\\hp\\anaconda3\\envs\\chatbot\\lib\\site-packages (from langchain-core<1.0.0,>=0.3.51->langchain) (1.33)\n",
      "Requirement already satisfied: packaging<25,>=23.2 in c:\\users\\hp\\anaconda3\\envs\\chatbot\\lib\\site-packages (from langchain-core<1.0.0,>=0.3.51->langchain) (24.2)\n",
      "Requirement already satisfied: typing-extensions>=4.7 in c:\\users\\hp\\anaconda3\\envs\\chatbot\\lib\\site-packages (from langchain-core<1.0.0,>=0.3.51->langchain) (4.13.2)\n",
      "Requirement already satisfied: httpx<1,>=0.23.0 in c:\\users\\hp\\anaconda3\\envs\\chatbot\\lib\\site-packages (from langsmith<0.4,>=0.1.17->langchain) (0.28.1)\n",
      "Requirement already satisfied: orjson<4.0.0,>=3.9.14 in c:\\users\\hp\\anaconda3\\envs\\chatbot\\lib\\site-packages (from langsmith<0.4,>=0.1.17->langchain) (3.10.16)\n",
      "Requirement already satisfied: requests-toolbelt<2.0.0,>=1.0.0 in c:\\users\\hp\\anaconda3\\envs\\chatbot\\lib\\site-packages (from langsmith<0.4,>=0.1.17->langchain) (1.0.0)\n",
      "Requirement already satisfied: zstandard<0.24.0,>=0.23.0 in c:\\users\\hp\\anaconda3\\envs\\chatbot\\lib\\site-packages (from langsmith<0.4,>=0.1.17->langchain) (0.23.0)\n",
      "Requirement already satisfied: annotated-types>=0.6.0 in c:\\users\\hp\\anaconda3\\envs\\chatbot\\lib\\site-packages (from pydantic<3.0.0,>=2.7.4->langchain) (0.7.0)\n",
      "Requirement already satisfied: pydantic-core==2.33.1 in c:\\users\\hp\\anaconda3\\envs\\chatbot\\lib\\site-packages (from pydantic<3.0.0,>=2.7.4->langchain) (2.33.1)\n",
      "Requirement already satisfied: typing-inspection>=0.4.0 in c:\\users\\hp\\anaconda3\\envs\\chatbot\\lib\\site-packages (from pydantic<3.0.0,>=2.7.4->langchain) (0.4.0)\n",
      "Requirement already satisfied: charset-normalizer<4,>=2 in c:\\users\\hp\\anaconda3\\envs\\chatbot\\lib\\site-packages (from requests<3,>=2->langchain) (3.4.1)\n",
      "Requirement already satisfied: idna<4,>=2.5 in c:\\users\\hp\\anaconda3\\envs\\chatbot\\lib\\site-packages (from requests<3,>=2->langchain) (3.10)\n",
      "Requirement already satisfied: urllib3<3,>=1.21.1 in c:\\users\\hp\\anaconda3\\envs\\chatbot\\lib\\site-packages (from requests<3,>=2->langchain) (2.4.0)\n",
      "Requirement already satisfied: certifi>=2017.4.17 in c:\\users\\hp\\anaconda3\\envs\\chatbot\\lib\\site-packages (from requests<3,>=2->langchain) (2025.1.31)\n",
      "Requirement already satisfied: greenlet>=1 in c:\\users\\hp\\anaconda3\\envs\\chatbot\\lib\\site-packages (from SQLAlchemy<3,>=1.4->langchain) (3.2.0)\n",
      "Requirement already satisfied: anyio in c:\\users\\hp\\anaconda3\\envs\\chatbot\\lib\\site-packages (from httpx<1,>=0.23.0->langsmith<0.4,>=0.1.17->langchain) (4.9.0)\n",
      "Requirement already satisfied: httpcore==1.* in c:\\users\\hp\\anaconda3\\envs\\chatbot\\lib\\site-packages (from httpx<1,>=0.23.0->langsmith<0.4,>=0.1.17->langchain) (1.0.8)\n",
      "Requirement already satisfied: h11<0.15,>=0.13 in c:\\users\\hp\\anaconda3\\envs\\chatbot\\lib\\site-packages (from httpcore==1.*->httpx<1,>=0.23.0->langsmith<0.4,>=0.1.17->langchain) (0.14.0)\n",
      "Requirement already satisfied: jsonpointer>=1.9 in c:\\users\\hp\\anaconda3\\envs\\chatbot\\lib\\site-packages (from jsonpatch<2.0,>=1.33->langchain-core<1.0.0,>=0.3.51->langchain) (3.0.0)\n",
      "Requirement already satisfied: exceptiongroup>=1.0.2 in c:\\users\\hp\\anaconda3\\envs\\chatbot\\lib\\site-packages (from anyio->httpx<1,>=0.23.0->langsmith<0.4,>=0.1.17->langchain) (1.2.2)\n",
      "Requirement already satisfied: sniffio>=1.1 in c:\\users\\hp\\anaconda3\\envs\\chatbot\\lib\\site-packages (from anyio->httpx<1,>=0.23.0->langsmith<0.4,>=0.1.17->langchain) (1.3.1)\n",
      "Requirement already satisfied: pypdf2 in c:\\users\\hp\\anaconda3\\envs\\chatbot\\lib\\site-packages (3.0.1)\n"
     ]
    }
   ],
   "source": [
    "!pip install langchain\n",
    "!pip install pypdf2\n"
   ]
  },
  {
   "cell_type": "code",
   "execution_count": 7,
   "id": "2d0d3bfa",
   "metadata": {},
   "outputs": [],
   "source": [
    "extracted_data = load_pdf_file(data='C:/Users/HP/Desktop/doss2/Data')"
   ]
  },
  {
   "cell_type": "code",
   "execution_count": 8,
   "id": "a94697e2",
   "metadata": {},
   "outputs": [],
   "source": [
    "def text_split(extracted_data):\n",
    "    text_splitter = RecursiveCharacterTextSplitter(chunk_size=500, chunk_overlap=20)\n",
    "    text_chunks = text_splitter.split_documents(extracted_data)\n",
    "    return text_chunks"
   ]
  },
  {
   "cell_type": "code",
   "execution_count": 10,
   "id": "a8608320",
   "metadata": {},
   "outputs": [
    {
     "name": "stdout",
     "output_type": "stream",
     "text": [
      "Length of Text Chunks: 1334\n"
     ]
    }
   ],
   "source": [
    "text_chunks = text_split(extracted_data)\n",
    "print(\"Length of Text Chunks:\", len(text_chunks))"
   ]
  },
  {
   "cell_type": "code",
   "execution_count": 11,
   "id": "a1589270",
   "metadata": {},
   "outputs": [],
   "source": [
    "from langchain.embeddings import HuggingFaceEmbeddings"
   ]
  },
  {
   "cell_type": "code",
   "execution_count": 13,
   "id": "beeea28e",
   "metadata": {},
   "outputs": [],
   "source": [
    "#Dowload the Embeddings from Hugging Face\n",
    "def download_hugging_face_embeddings():\n",
    "    embeddings = HuggingFaceEmbeddings(model_name='sentence-transformers/all-MiniLM-L6-v2')\n",
    "    return embeddings"
   ]
  },
  {
   "cell_type": "code",
   "execution_count": 14,
   "id": "f76440ac",
   "metadata": {},
   "outputs": [
    {
     "name": "stdout",
     "output_type": "stream",
     "text": [
      "Requirement already satisfied: sentence-transformers in c:\\users\\hp\\anaconda3\\envs\\chatbot\\lib\\site-packages (4.1.0)\n",
      "Requirement already satisfied: transformers<5.0.0,>=4.41.0 in c:\\users\\hp\\anaconda3\\envs\\chatbot\\lib\\site-packages (from sentence-transformers) (4.51.3)\n",
      "Requirement already satisfied: tqdm in c:\\users\\hp\\anaconda3\\envs\\chatbot\\lib\\site-packages (from sentence-transformers) (4.67.1)\n",
      "Requirement already satisfied: torch>=1.11.0 in c:\\users\\hp\\anaconda3\\envs\\chatbot\\lib\\site-packages (from sentence-transformers) (2.6.0)\n",
      "Requirement already satisfied: scikit-learn in c:\\users\\hp\\anaconda3\\envs\\chatbot\\lib\\site-packages (from sentence-transformers) (1.6.1)\n",
      "Requirement already satisfied: scipy in c:\\users\\hp\\anaconda3\\envs\\chatbot\\lib\\site-packages (from sentence-transformers) (1.15.2)\n",
      "Requirement already satisfied: huggingface-hub>=0.20.0 in c:\\users\\hp\\anaconda3\\envs\\chatbot\\lib\\site-packages (from sentence-transformers) (0.30.2)\n",
      "Requirement already satisfied: Pillow in c:\\users\\hp\\anaconda3\\envs\\chatbot\\lib\\site-packages (from sentence-transformers) (11.2.1)\n",
      "Requirement already satisfied: typing_extensions>=4.5.0 in c:\\users\\hp\\anaconda3\\envs\\chatbot\\lib\\site-packages (from sentence-transformers) (4.13.2)\n",
      "Requirement already satisfied: filelock in c:\\users\\hp\\anaconda3\\envs\\chatbot\\lib\\site-packages (from huggingface-hub>=0.20.0->sentence-transformers) (3.18.0)\n",
      "Requirement already satisfied: fsspec>=2023.5.0 in c:\\users\\hp\\anaconda3\\envs\\chatbot\\lib\\site-packages (from huggingface-hub>=0.20.0->sentence-transformers) (2025.3.2)\n",
      "Requirement already satisfied: packaging>=20.9 in c:\\users\\hp\\anaconda3\\envs\\chatbot\\lib\\site-packages (from huggingface-hub>=0.20.0->sentence-transformers) (24.2)\n",
      "Requirement already satisfied: pyyaml>=5.1 in c:\\users\\hp\\anaconda3\\envs\\chatbot\\lib\\site-packages (from huggingface-hub>=0.20.0->sentence-transformers) (6.0.2)\n",
      "Requirement already satisfied: requests in c:\\users\\hp\\anaconda3\\envs\\chatbot\\lib\\site-packages (from huggingface-hub>=0.20.0->sentence-transformers) (2.32.3)\n",
      "Requirement already satisfied: networkx in c:\\users\\hp\\anaconda3\\envs\\chatbot\\lib\\site-packages (from torch>=1.11.0->sentence-transformers) (3.4.2)\n",
      "Requirement already satisfied: jinja2 in c:\\users\\hp\\anaconda3\\envs\\chatbot\\lib\\site-packages (from torch>=1.11.0->sentence-transformers) (3.1.6)\n",
      "Requirement already satisfied: sympy==1.13.1 in c:\\users\\hp\\anaconda3\\envs\\chatbot\\lib\\site-packages (from torch>=1.11.0->sentence-transformers) (1.13.1)\n",
      "Requirement already satisfied: mpmath<1.4,>=1.1.0 in c:\\users\\hp\\anaconda3\\envs\\chatbot\\lib\\site-packages (from sympy==1.13.1->torch>=1.11.0->sentence-transformers) (1.3.0)\n",
      "Requirement already satisfied: colorama in c:\\users\\hp\\anaconda3\\envs\\chatbot\\lib\\site-packages (from tqdm->sentence-transformers) (0.4.6)\n",
      "Requirement already satisfied: numpy>=1.17 in c:\\users\\hp\\anaconda3\\envs\\chatbot\\lib\\site-packages (from transformers<5.0.0,>=4.41.0->sentence-transformers) (2.2.4)\n",
      "Requirement already satisfied: regex!=2019.12.17 in c:\\users\\hp\\anaconda3\\envs\\chatbot\\lib\\site-packages (from transformers<5.0.0,>=4.41.0->sentence-transformers) (2024.11.6)\n",
      "Requirement already satisfied: tokenizers<0.22,>=0.21 in c:\\users\\hp\\anaconda3\\envs\\chatbot\\lib\\site-packages (from transformers<5.0.0,>=4.41.0->sentence-transformers) (0.21.1)\n",
      "Requirement already satisfied: safetensors>=0.4.3 in c:\\users\\hp\\anaconda3\\envs\\chatbot\\lib\\site-packages (from transformers<5.0.0,>=4.41.0->sentence-transformers) (0.5.3)\n",
      "Requirement already satisfied: joblib>=1.2.0 in c:\\users\\hp\\anaconda3\\envs\\chatbot\\lib\\site-packages (from scikit-learn->sentence-transformers) (1.4.2)\n",
      "Requirement already satisfied: threadpoolctl>=3.1.0 in c:\\users\\hp\\anaconda3\\envs\\chatbot\\lib\\site-packages (from scikit-learn->sentence-transformers) (3.6.0)\n",
      "Requirement already satisfied: MarkupSafe>=2.0 in c:\\users\\hp\\anaconda3\\envs\\chatbot\\lib\\site-packages (from jinja2->torch>=1.11.0->sentence-transformers) (3.0.2)\n",
      "Requirement already satisfied: charset-normalizer<4,>=2 in c:\\users\\hp\\anaconda3\\envs\\chatbot\\lib\\site-packages (from requests->huggingface-hub>=0.20.0->sentence-transformers) (3.4.1)\n",
      "Requirement already satisfied: idna<4,>=2.5 in c:\\users\\hp\\anaconda3\\envs\\chatbot\\lib\\site-packages (from requests->huggingface-hub>=0.20.0->sentence-transformers) (3.10)\n",
      "Requirement already satisfied: urllib3<3,>=1.21.1 in c:\\users\\hp\\anaconda3\\envs\\chatbot\\lib\\site-packages (from requests->huggingface-hub>=0.20.0->sentence-transformers) (2.4.0)\n",
      "Requirement already satisfied: certifi>=2017.4.17 in c:\\users\\hp\\anaconda3\\envs\\chatbot\\lib\\site-packages (from requests->huggingface-hub>=0.20.0->sentence-transformers) (2025.1.31)\n",
      "Note: you may need to restart the kernel to use updated packages.\n"
     ]
    }
   ],
   "source": [
    "pip install sentence-transformers\n"
   ]
  },
  {
   "cell_type": "code",
   "execution_count": 14,
   "id": "2839a9f6",
   "metadata": {},
   "outputs": [
    {
     "name": "stderr",
     "output_type": "stream",
     "text": [
      "C:\\Users\\HP\\AppData\\Local\\Temp\\ipykernel_16640\\2040198703.py:3: LangChainDeprecationWarning: The class `HuggingFaceEmbeddings` was deprecated in LangChain 0.2.2 and will be removed in 1.0. An updated version of the class exists in the :class:`~langchain-huggingface package and should be used instead. To use it run `pip install -U :class:`~langchain-huggingface` and import as `from :class:`~langchain_huggingface import HuggingFaceEmbeddings``.\n",
      "  embeddings = HuggingFaceEmbeddings(model_name='sentence-transformers/all-MiniLM-L6-v2')\n",
      "c:\\Users\\HP\\anaconda3\\envs\\chatbot\\lib\\site-packages\\tqdm\\auto.py:21: TqdmWarning: IProgress not found. Please update jupyter and ipywidgets. See https://ipywidgets.readthedocs.io/en/stable/user_install.html\n",
      "  from .autonotebook import tqdm as notebook_tqdm\n"
     ]
    }
   ],
   "source": [
    "embeddings = download_hugging_face_embeddings()"
   ]
  },
  {
   "cell_type": "code",
   "execution_count": 15,
   "id": "b762ce71",
   "metadata": {},
   "outputs": [
    {
     "name": "stdout",
     "output_type": "stream",
     "text": [
      "Length 384\n"
     ]
    }
   ],
   "source": [
    "query_result = embeddings.embed_query(\"hello world\")\n",
    "print(\"Length\",len(query_result))"
   ]
  },
  {
   "cell_type": "code",
   "execution_count": 17,
   "id": "95d2eea0",
   "metadata": {},
   "outputs": [
    {
     "name": "stdout",
     "output_type": "stream",
     "text": [
      "Collecting pinecone\n",
      "  Using cached pinecone-6.0.2-py3-none-any.whl.metadata (9.0 kB)\n",
      "Requirement already satisfied: certifi>=2019.11.17 in c:\\users\\hp\\anaconda3\\envs\\chatbot\\lib\\site-packages (from pinecone) (2025.1.31)\n",
      "Requirement already satisfied: pinecone-plugin-interface<0.0.8,>=0.0.7 in c:\\users\\hp\\anaconda3\\envs\\chatbot\\lib\\site-packages (from pinecone) (0.0.7)\n",
      "Requirement already satisfied: python-dateutil>=2.5.3 in c:\\users\\hp\\anaconda3\\envs\\chatbot\\lib\\site-packages (from pinecone) (2.9.0.post0)\n",
      "Requirement already satisfied: typing-extensions>=3.7.4 in c:\\users\\hp\\anaconda3\\envs\\chatbot\\lib\\site-packages (from pinecone) (4.13.2)\n",
      "Requirement already satisfied: urllib3>=1.26.0 in c:\\users\\hp\\anaconda3\\envs\\chatbot\\lib\\site-packages (from pinecone) (2.4.0)\n",
      "Requirement already satisfied: six>=1.5 in c:\\users\\hp\\anaconda3\\envs\\chatbot\\lib\\site-packages (from python-dateutil>=2.5.3->pinecone) (1.17.0)\n",
      "Using cached pinecone-6.0.2-py3-none-any.whl (421 kB)\n",
      "Installing collected packages: pinecone\n",
      "Successfully installed pinecone-6.0.2\n",
      "Note: you may need to restart the kernel to use updated packages.\n"
     ]
    }
   ],
   "source": [
    "pip install pinecone"
   ]
  },
  {
   "cell_type": "code",
   "execution_count": 19,
   "id": "6eb8fd45",
   "metadata": {},
   "outputs": [
    {
     "name": "stdout",
     "output_type": "stream",
     "text": [
      "Requirement already satisfied: python-dotenv in c:\\users\\hp\\anaconda3\\envs\\chatbot\\lib\\site-packages (1.1.0)\n",
      "Note: you may need to restart the kernel to use updated packages.\n"
     ]
    }
   ],
   "source": [
    "pip install python-dotenv\n"
   ]
  },
  {
   "cell_type": "code",
   "execution_count": 16,
   "id": "f7f7c0e6",
   "metadata": {},
   "outputs": [
    {
     "data": {
      "text/plain": [
       "True"
      ]
     },
     "execution_count": 16,
     "metadata": {},
     "output_type": "execute_result"
    }
   ],
   "source": [
    "from dotenv import load_dotenv\n",
    "load_dotenv()\n"
   ]
  },
  {
   "cell_type": "code",
   "execution_count": 17,
   "id": "e0bc71fc",
   "metadata": {},
   "outputs": [],
   "source": [
    "import os\n",
    "PINECONE_API_KEY=os.environ.get('PINECONE_API_KEY')\n"
   ]
  },
  {
   "cell_type": "code",
   "execution_count": 18,
   "id": "b1ddf28a",
   "metadata": {},
   "outputs": [],
   "source": [
    "import os\n",
    "GROQ_API_KEY=os.environ.get('GROQ_API_KEY')\n"
   ]
  },
  {
   "cell_type": "code",
   "execution_count": 19,
   "id": "8805ef09",
   "metadata": {},
   "outputs": [],
   "source": [
    "GROQ_API_KEY=os.environ.get('GROQ_API_KEY')\n"
   ]
  },
  {
   "cell_type": "code",
   "execution_count": 27,
   "id": "2f2a0f45",
   "metadata": {},
   "outputs": [
    {
     "name": "stdout",
     "output_type": "stream",
     "text": [
      "Requirement already satisfied: pinecone-client in c:\\users\\hp\\anaconda3\\envs\\chatbot\\lib\\site-packages (6.0.0)\n",
      "Requirement already satisfied: certifi>=2019.11.17 in c:\\users\\hp\\anaconda3\\envs\\chatbot\\lib\\site-packages (from pinecone-client) (2025.1.31)\n",
      "Requirement already satisfied: pinecone-plugin-interface<0.0.8,>=0.0.7 in c:\\users\\hp\\anaconda3\\envs\\chatbot\\lib\\site-packages (from pinecone-client) (0.0.7)\n",
      "Requirement already satisfied: python-dateutil>=2.5.3 in c:\\users\\hp\\anaconda3\\envs\\chatbot\\lib\\site-packages (from pinecone-client) (2.9.0.post0)\n",
      "Requirement already satisfied: typing-extensions>=3.7.4 in c:\\users\\hp\\anaconda3\\envs\\chatbot\\lib\\site-packages (from pinecone-client) (4.13.2)\n",
      "Requirement already satisfied: urllib3>=1.26.0 in c:\\users\\hp\\anaconda3\\envs\\chatbot\\lib\\site-packages (from pinecone-client) (2.4.0)\n",
      "Requirement already satisfied: six>=1.5 in c:\\users\\hp\\anaconda3\\envs\\chatbot\\lib\\site-packages (from python-dateutil>=2.5.3->pinecone-client) (1.17.0)\n",
      "Note: you may need to restart the kernel to use updated packages.\n"
     ]
    }
   ],
   "source": [
    "pip install pinecone-client"
   ]
  },
  {
   "cell_type": "code",
   "execution_count": null,
   "id": "4fc16f58",
   "metadata": {},
   "outputs": [
    {
     "data": {
      "text/plain": [
       "{\n",
       "    \"name\": \"chatbot111\",\n",
       "    \"metric\": \"cosine\",\n",
       "    \"host\": \"chatbot111-5l5w2pl.svc.aped-4627-b74a.pinecone.io\",\n",
       "    \"spec\": {\n",
       "        \"serverless\": {\n",
       "            \"cloud\": \"aws\",\n",
       "            \"region\": \"us-east-1\"\n",
       "        }\n",
       "    },\n",
       "    \"status\": {\n",
       "        \"ready\": true,\n",
       "        \"state\": \"Ready\"\n",
       "    },\n",
       "    \"vector_type\": \"dense\",\n",
       "    \"dimension\": 384,\n",
       "    \"deletion_protection\": \"disabled\",\n",
       "    \"tags\": null\n",
       "}"
      ]
     },
     "execution_count": 28,
     "metadata": {},
     "output_type": "execute_result"
    }
   ],
   "source": [
    "from pinecone.grpc import PineconeGRPC as Pinecone\n",
    "from pinecone import ServerlessSpec\n",
    "import os\n",
    "\n",
    "pc = Pinecone(api_key=PINECONE_API_KEY)\n",
    "index_name = \"chatbot111\"\n",
    "\n",
    "pc.create_index(\n",
    "    name=index_name,\n",
    "    dimension=384, # Replace with your model dimensions\n",
    "    metric=\"cosine\", # Replace with your model metric\n",
    "    spec=ServerlessSpec(\n",
    "        cloud=\"aws\",\n",
    "        region=\"us-east-1\"\n",
    "    ) \n",
    ")"
   ]
  },
  {
   "cell_type": "code",
   "execution_count": 20,
   "id": "ca750e61",
   "metadata": {},
   "outputs": [],
   "source": [
    "import os\n",
    "os.environ[\"PINECONE_API_KEY\"]=PINECONE_API_KEY"
   ]
  },
  {
   "cell_type": "code",
   "execution_count": 60,
   "id": "a8100e3b",
   "metadata": {},
   "outputs": [],
   "source": [
    "from langchain_pinecone import PineconeVectorStore\n",
    "\n",
    "index_name = \"chatbot111\"\n",
    "\n",
    "docssearch= PineconeVectorStore.from_documents(\n",
    "    documents=text_chunks,\n",
    "    index_name=index_name,\n",
    "    embedding=embeddings,\n",
    ")"
   ]
  },
  {
   "cell_type": "code",
   "execution_count": 61,
   "id": "2c00557a",
   "metadata": {},
   "outputs": [
    {
     "name": "stdout",
     "output_type": "stream",
     "text": [
      "Requirement already satisfied: langchain in c:\\users\\hp\\anaconda3\\envs\\chatbot\\lib\\site-packages (0.3.23)Note: you may need to restart the kernel to use updated packages.\n",
      "\n",
      "Requirement already satisfied: langchain-core<1.0.0,>=0.3.51 in c:\\users\\hp\\anaconda3\\envs\\chatbot\\lib\\site-packages (from langchain) (0.3.52)\n",
      "Requirement already satisfied: langchain-text-splitters<1.0.0,>=0.3.8 in c:\\users\\hp\\anaconda3\\envs\\chatbot\\lib\\site-packages (from langchain) (0.3.8)\n",
      "Requirement already satisfied: langsmith<0.4,>=0.1.17 in c:\\users\\hp\\anaconda3\\envs\\chatbot\\lib\\site-packages (from langchain) (0.3.31)\n",
      "Requirement already satisfied: pydantic<3.0.0,>=2.7.4 in c:\\users\\hp\\anaconda3\\envs\\chatbot\\lib\\site-packages (from langchain) (2.11.3)\n",
      "Requirement already satisfied: SQLAlchemy<3,>=1.4 in c:\\users\\hp\\anaconda3\\envs\\chatbot\\lib\\site-packages (from langchain) (2.0.40)\n",
      "Requirement already satisfied: requests<3,>=2 in c:\\users\\hp\\anaconda3\\envs\\chatbot\\lib\\site-packages (from langchain) (2.32.3)\n",
      "Requirement already satisfied: PyYAML>=5.3 in c:\\users\\hp\\anaconda3\\envs\\chatbot\\lib\\site-packages (from langchain) (6.0.2)\n",
      "Requirement already satisfied: async-timeout<5.0.0,>=4.0.0 in c:\\users\\hp\\anaconda3\\envs\\chatbot\\lib\\site-packages (from langchain) (4.0.3)\n",
      "Requirement already satisfied: tenacity!=8.4.0,<10.0.0,>=8.1.0 in c:\\users\\hp\\anaconda3\\envs\\chatbot\\lib\\site-packages (from langchain-core<1.0.0,>=0.3.51->langchain) (9.1.2)\n",
      "Requirement already satisfied: jsonpatch<2.0,>=1.33 in c:\\users\\hp\\anaconda3\\envs\\chatbot\\lib\\site-packages (from langchain-core<1.0.0,>=0.3.51->langchain) (1.33)\n",
      "Requirement already satisfied: packaging<25,>=23.2 in c:\\users\\hp\\anaconda3\\envs\\chatbot\\lib\\site-packages (from langchain-core<1.0.0,>=0.3.51->langchain) (24.2)\n",
      "Requirement already satisfied: typing-extensions>=4.7 in c:\\users\\hp\\anaconda3\\envs\\chatbot\\lib\\site-packages (from langchain-core<1.0.0,>=0.3.51->langchain) (4.13.2)\n",
      "Requirement already satisfied: httpx<1,>=0.23.0 in c:\\users\\hp\\anaconda3\\envs\\chatbot\\lib\\site-packages (from langsmith<0.4,>=0.1.17->langchain) (0.28.1)\n",
      "Requirement already satisfied: orjson<4.0.0,>=3.9.14 in c:\\users\\hp\\anaconda3\\envs\\chatbot\\lib\\site-packages (from langsmith<0.4,>=0.1.17->langchain) (3.10.16)\n",
      "Requirement already satisfied: requests-toolbelt<2.0.0,>=1.0.0 in c:\\users\\hp\\anaconda3\\envs\\chatbot\\lib\\site-packages (from langsmith<0.4,>=0.1.17->langchain) (1.0.0)\n",
      "Requirement already satisfied: zstandard<0.24.0,>=0.23.0 in c:\\users\\hp\\anaconda3\\envs\\chatbot\\lib\\site-packages (from langsmith<0.4,>=0.1.17->langchain) (0.23.0)\n",
      "Requirement already satisfied: annotated-types>=0.6.0 in c:\\users\\hp\\anaconda3\\envs\\chatbot\\lib\\site-packages (from pydantic<3.0.0,>=2.7.4->langchain) (0.7.0)\n",
      "Requirement already satisfied: pydantic-core==2.33.1 in c:\\users\\hp\\anaconda3\\envs\\chatbot\\lib\\site-packages (from pydantic<3.0.0,>=2.7.4->langchain) (2.33.1)\n",
      "Requirement already satisfied: typing-inspection>=0.4.0 in c:\\users\\hp\\anaconda3\\envs\\chatbot\\lib\\site-packages (from pydantic<3.0.0,>=2.7.4->langchain) (0.4.0)\n",
      "Requirement already satisfied: charset-normalizer<4,>=2 in c:\\users\\hp\\anaconda3\\envs\\chatbot\\lib\\site-packages (from requests<3,>=2->langchain) (3.4.1)\n",
      "Requirement already satisfied: idna<4,>=2.5 in c:\\users\\hp\\anaconda3\\envs\\chatbot\\lib\\site-packages (from requests<3,>=2->langchain) (3.10)\n",
      "Requirement already satisfied: urllib3<3,>=1.21.1 in c:\\users\\hp\\anaconda3\\envs\\chatbot\\lib\\site-packages (from requests<3,>=2->langchain) (2.4.0)\n",
      "Requirement already satisfied: certifi>=2017.4.17 in c:\\users\\hp\\anaconda3\\envs\\chatbot\\lib\\site-packages (from requests<3,>=2->langchain) (2025.1.31)\n",
      "Requirement already satisfied: greenlet>=1 in c:\\users\\hp\\anaconda3\\envs\\chatbot\\lib\\site-packages (from SQLAlchemy<3,>=1.4->langchain) (3.2.0)\n",
      "Requirement already satisfied: anyio in c:\\users\\hp\\anaconda3\\envs\\chatbot\\lib\\site-packages (from httpx<1,>=0.23.0->langsmith<0.4,>=0.1.17->langchain) (4.9.0)\n",
      "Requirement already satisfied: httpcore==1.* in c:\\users\\hp\\anaconda3\\envs\\chatbot\\lib\\site-packages (from httpx<1,>=0.23.0->langsmith<0.4,>=0.1.17->langchain) (1.0.8)\n",
      "Requirement already satisfied: h11<0.15,>=0.13 in c:\\users\\hp\\anaconda3\\envs\\chatbot\\lib\\site-packages (from httpcore==1.*->httpx<1,>=0.23.0->langsmith<0.4,>=0.1.17->langchain) (0.14.0)\n",
      "Requirement already satisfied: jsonpointer>=1.9 in c:\\users\\hp\\anaconda3\\envs\\chatbot\\lib\\site-packages (from jsonpatch<2.0,>=1.33->langchain-core<1.0.0,>=0.3.51->langchain) (3.0.0)\n",
      "Requirement already satisfied: exceptiongroup>=1.0.2 in c:\\users\\hp\\anaconda3\\envs\\chatbot\\lib\\site-packages (from anyio->httpx<1,>=0.23.0->langsmith<0.4,>=0.1.17->langchain) (1.2.2)\n",
      "Requirement already satisfied: sniffio>=1.1 in c:\\users\\hp\\anaconda3\\envs\\chatbot\\lib\\site-packages (from anyio->httpx<1,>=0.23.0->langsmith<0.4,>=0.1.17->langchain) (1.3.1)\n"
     ]
    }
   ],
   "source": [
    "pip install langchain"
   ]
  },
  {
   "cell_type": "code",
   "execution_count": 62,
   "id": "020a8b2d",
   "metadata": {},
   "outputs": [
    {
     "name": "stdout",
     "output_type": "stream",
     "text": [
      "Requirement already satisfied: pinecone-client in c:\\users\\hp\\anaconda3\\envs\\chatbot\\lib\\site-packages (6.0.0)\n",
      "Requirement already satisfied: certifi>=2019.11.17 in c:\\users\\hp\\anaconda3\\envs\\chatbot\\lib\\site-packages (from pinecone-client) (2025.1.31)\n",
      "Requirement already satisfied: pinecone-plugin-interface<0.0.8,>=0.0.7 in c:\\users\\hp\\anaconda3\\envs\\chatbot\\lib\\site-packages (from pinecone-client) (0.0.7)\n",
      "Requirement already satisfied: python-dateutil>=2.5.3 in c:\\users\\hp\\anaconda3\\envs\\chatbot\\lib\\site-packages (from pinecone-client) (2.9.0.post0)\n",
      "Requirement already satisfied: typing-extensions>=3.7.4 in c:\\users\\hp\\anaconda3\\envs\\chatbot\\lib\\site-packages (from pinecone-client) (4.13.2)\n",
      "Requirement already satisfied: urllib3>=1.26.0 in c:\\users\\hp\\anaconda3\\envs\\chatbot\\lib\\site-packages (from pinecone-client) (2.4.0)\n",
      "Requirement already satisfied: six>=1.5 in c:\\users\\hp\\anaconda3\\envs\\chatbot\\lib\\site-packages (from python-dateutil>=2.5.3->pinecone-client) (1.17.0)\n",
      "Note: you may need to restart the kernel to use updated packages.\n"
     ]
    }
   ],
   "source": [
    "pip install pinecone-client"
   ]
  },
  {
   "cell_type": "code",
   "execution_count": 63,
   "id": "0e639030",
   "metadata": {},
   "outputs": [
    {
     "name": "stdout",
     "output_type": "stream",
     "text": [
      "Requirement already satisfied: langchain-pinecone in c:\\users\\hp\\anaconda3\\envs\\chatbot\\lib\\site-packages (0.2.5)\n",
      "Requirement already satisfied: langchain-core<1.0.0,>=0.3.34 in c:\\users\\hp\\anaconda3\\envs\\chatbot\\lib\\site-packages (from langchain-pinecone) (0.3.52)\n",
      "Requirement already satisfied: pinecone<7.0.0,>=6.0.0 in c:\\users\\hp\\anaconda3\\envs\\chatbot\\lib\\site-packages (from pinecone[async]<7.0.0,>=6.0.0->langchain-pinecone) (6.0.2)\n",
      "Requirement already satisfied: aiohttp<3.11,>=3.10 in c:\\users\\hp\\anaconda3\\envs\\chatbot\\lib\\site-packages (from langchain-pinecone) (3.10.11)\n",
      "Requirement already satisfied: numpy>=1.26.4 in c:\\users\\hp\\anaconda3\\envs\\chatbot\\lib\\site-packages (from langchain-pinecone) (2.2.4)\n",
      "Requirement already satisfied: langchain-tests<1.0.0,>=0.3.7 in c:\\users\\hp\\anaconda3\\envs\\chatbot\\lib\\site-packages (from langchain-pinecone) (0.3.18)\n",
      "Requirement already satisfied: aiohappyeyeballs>=2.3.0 in c:\\users\\hp\\anaconda3\\envs\\chatbot\\lib\\site-packages (from aiohttp<3.11,>=3.10->langchain-pinecone) (2.6.1)\n",
      "Requirement already satisfied: aiosignal>=1.1.2 in c:\\users\\hp\\anaconda3\\envs\\chatbot\\lib\\site-packages (from aiohttp<3.11,>=3.10->langchain-pinecone) (1.3.2)\n",
      "Requirement already satisfied: attrs>=17.3.0 in c:\\users\\hp\\anaconda3\\envs\\chatbot\\lib\\site-packages (from aiohttp<3.11,>=3.10->langchain-pinecone) (25.3.0)\n",
      "Requirement already satisfied: frozenlist>=1.1.1 in c:\\users\\hp\\anaconda3\\envs\\chatbot\\lib\\site-packages (from aiohttp<3.11,>=3.10->langchain-pinecone) (1.5.0)\n",
      "Requirement already satisfied: multidict<7.0,>=4.5 in c:\\users\\hp\\anaconda3\\envs\\chatbot\\lib\\site-packages (from aiohttp<3.11,>=3.10->langchain-pinecone) (6.4.3)\n",
      "Requirement already satisfied: yarl<2.0,>=1.12.0 in c:\\users\\hp\\anaconda3\\envs\\chatbot\\lib\\site-packages (from aiohttp<3.11,>=3.10->langchain-pinecone) (1.19.0)\n",
      "Requirement already satisfied: async-timeout<6.0,>=4.0 in c:\\users\\hp\\anaconda3\\envs\\chatbot\\lib\\site-packages (from aiohttp<3.11,>=3.10->langchain-pinecone) (4.0.3)\n",
      "Requirement already satisfied: langsmith<0.4,>=0.1.125 in c:\\users\\hp\\anaconda3\\envs\\chatbot\\lib\\site-packages (from langchain-core<1.0.0,>=0.3.34->langchain-pinecone) (0.3.31)\n",
      "Requirement already satisfied: tenacity!=8.4.0,<10.0.0,>=8.1.0 in c:\\users\\hp\\anaconda3\\envs\\chatbot\\lib\\site-packages (from langchain-core<1.0.0,>=0.3.34->langchain-pinecone) (9.1.2)\n",
      "Requirement already satisfied: jsonpatch<2.0,>=1.33 in c:\\users\\hp\\anaconda3\\envs\\chatbot\\lib\\site-packages (from langchain-core<1.0.0,>=0.3.34->langchain-pinecone) (1.33)\n",
      "Requirement already satisfied: PyYAML>=5.3 in c:\\users\\hp\\anaconda3\\envs\\chatbot\\lib\\site-packages (from langchain-core<1.0.0,>=0.3.34->langchain-pinecone) (6.0.2)\n",
      "Requirement already satisfied: packaging<25,>=23.2 in c:\\users\\hp\\anaconda3\\envs\\chatbot\\lib\\site-packages (from langchain-core<1.0.0,>=0.3.34->langchain-pinecone) (24.2)\n",
      "Requirement already satisfied: typing-extensions>=4.7 in c:\\users\\hp\\anaconda3\\envs\\chatbot\\lib\\site-packages (from langchain-core<1.0.0,>=0.3.34->langchain-pinecone) (4.13.2)\n",
      "Requirement already satisfied: pydantic<3.0.0,>=2.5.2 in c:\\users\\hp\\anaconda3\\envs\\chatbot\\lib\\site-packages (from langchain-core<1.0.0,>=0.3.34->langchain-pinecone) (2.11.3)\n",
      "Requirement already satisfied: pytest<9,>=7 in c:\\users\\hp\\anaconda3\\envs\\chatbot\\lib\\site-packages (from langchain-tests<1.0.0,>=0.3.7->langchain-pinecone) (8.3.5)\n",
      "Requirement already satisfied: pytest-asyncio<1,>=0.20 in c:\\users\\hp\\anaconda3\\envs\\chatbot\\lib\\site-packages (from langchain-tests<1.0.0,>=0.3.7->langchain-pinecone) (0.26.0)\n",
      "Requirement already satisfied: httpx<1,>=0.25.0 in c:\\users\\hp\\anaconda3\\envs\\chatbot\\lib\\site-packages (from langchain-tests<1.0.0,>=0.3.7->langchain-pinecone) (0.28.1)\n",
      "Requirement already satisfied: syrupy<5,>=4 in c:\\users\\hp\\anaconda3\\envs\\chatbot\\lib\\site-packages (from langchain-tests<1.0.0,>=0.3.7->langchain-pinecone) (4.9.1)\n",
      "Requirement already satisfied: pytest-socket<1,>=0.6.0 in c:\\users\\hp\\anaconda3\\envs\\chatbot\\lib\\site-packages (from langchain-tests<1.0.0,>=0.3.7->langchain-pinecone) (0.7.0)\n",
      "Requirement already satisfied: certifi>=2019.11.17 in c:\\users\\hp\\anaconda3\\envs\\chatbot\\lib\\site-packages (from pinecone<7.0.0,>=6.0.0->pinecone[async]<7.0.0,>=6.0.0->langchain-pinecone) (2025.1.31)\n",
      "Requirement already satisfied: pinecone-plugin-interface<0.0.8,>=0.0.7 in c:\\users\\hp\\anaconda3\\envs\\chatbot\\lib\\site-packages (from pinecone<7.0.0,>=6.0.0->pinecone[async]<7.0.0,>=6.0.0->langchain-pinecone) (0.0.7)\n",
      "Requirement already satisfied: python-dateutil>=2.5.3 in c:\\users\\hp\\anaconda3\\envs\\chatbot\\lib\\site-packages (from pinecone<7.0.0,>=6.0.0->pinecone[async]<7.0.0,>=6.0.0->langchain-pinecone) (2.9.0.post0)\n",
      "Requirement already satisfied: urllib3>=1.26.0 in c:\\users\\hp\\anaconda3\\envs\\chatbot\\lib\\site-packages (from pinecone<7.0.0,>=6.0.0->pinecone[async]<7.0.0,>=6.0.0->langchain-pinecone) (2.4.0)\n",
      "Requirement already satisfied: anyio in c:\\users\\hp\\anaconda3\\envs\\chatbot\\lib\\site-packages (from httpx<1,>=0.25.0->langchain-tests<1.0.0,>=0.3.7->langchain-pinecone) (4.9.0)\n",
      "Requirement already satisfied: httpcore==1.* in c:\\users\\hp\\anaconda3\\envs\\chatbot\\lib\\site-packages (from httpx<1,>=0.25.0->langchain-tests<1.0.0,>=0.3.7->langchain-pinecone) (1.0.8)\n",
      "Requirement already satisfied: idna in c:\\users\\hp\\anaconda3\\envs\\chatbot\\lib\\site-packages (from httpx<1,>=0.25.0->langchain-tests<1.0.0,>=0.3.7->langchain-pinecone) (3.10)\n",
      "Requirement already satisfied: h11<0.15,>=0.13 in c:\\users\\hp\\anaconda3\\envs\\chatbot\\lib\\site-packages (from httpcore==1.*->httpx<1,>=0.25.0->langchain-tests<1.0.0,>=0.3.7->langchain-pinecone) (0.14.0)\n",
      "Requirement already satisfied: jsonpointer>=1.9 in c:\\users\\hp\\anaconda3\\envs\\chatbot\\lib\\site-packages (from jsonpatch<2.0,>=1.33->langchain-core<1.0.0,>=0.3.34->langchain-pinecone) (3.0.0)\n",
      "Requirement already satisfied: orjson<4.0.0,>=3.9.14 in c:\\users\\hp\\anaconda3\\envs\\chatbot\\lib\\site-packages (from langsmith<0.4,>=0.1.125->langchain-core<1.0.0,>=0.3.34->langchain-pinecone) (3.10.16)\n",
      "Requirement already satisfied: requests<3,>=2 in c:\\users\\hp\\anaconda3\\envs\\chatbot\\lib\\site-packages (from langsmith<0.4,>=0.1.125->langchain-core<1.0.0,>=0.3.34->langchain-pinecone) (2.32.3)\n",
      "Requirement already satisfied: requests-toolbelt<2.0.0,>=1.0.0 in c:\\users\\hp\\anaconda3\\envs\\chatbot\\lib\\site-packages (from langsmith<0.4,>=0.1.125->langchain-core<1.0.0,>=0.3.34->langchain-pinecone) (1.0.0)\n",
      "Requirement already satisfied: zstandard<0.24.0,>=0.23.0 in c:\\users\\hp\\anaconda3\\envs\\chatbot\\lib\\site-packages (from langsmith<0.4,>=0.1.125->langchain-core<1.0.0,>=0.3.34->langchain-pinecone) (0.23.0)\n",
      "Requirement already satisfied: annotated-types>=0.6.0 in c:\\users\\hp\\anaconda3\\envs\\chatbot\\lib\\site-packages (from pydantic<3.0.0,>=2.5.2->langchain-core<1.0.0,>=0.3.34->langchain-pinecone) (0.7.0)\n",
      "Requirement already satisfied: pydantic-core==2.33.1 in c:\\users\\hp\\anaconda3\\envs\\chatbot\\lib\\site-packages (from pydantic<3.0.0,>=2.5.2->langchain-core<1.0.0,>=0.3.34->langchain-pinecone) (2.33.1)\n",
      "Requirement already satisfied: typing-inspection>=0.4.0 in c:\\users\\hp\\anaconda3\\envs\\chatbot\\lib\\site-packages (from pydantic<3.0.0,>=2.5.2->langchain-core<1.0.0,>=0.3.34->langchain-pinecone) (0.4.0)\n",
      "Requirement already satisfied: colorama in c:\\users\\hp\\anaconda3\\envs\\chatbot\\lib\\site-packages (from pytest<9,>=7->langchain-tests<1.0.0,>=0.3.7->langchain-pinecone) (0.4.6)\n",
      "Requirement already satisfied: exceptiongroup>=1.0.0rc8 in c:\\users\\hp\\anaconda3\\envs\\chatbot\\lib\\site-packages (from pytest<9,>=7->langchain-tests<1.0.0,>=0.3.7->langchain-pinecone) (1.2.2)\n",
      "Requirement already satisfied: iniconfig in c:\\users\\hp\\anaconda3\\envs\\chatbot\\lib\\site-packages (from pytest<9,>=7->langchain-tests<1.0.0,>=0.3.7->langchain-pinecone) (2.1.0)\n",
      "Requirement already satisfied: pluggy<2,>=1.5 in c:\\users\\hp\\anaconda3\\envs\\chatbot\\lib\\site-packages (from pytest<9,>=7->langchain-tests<1.0.0,>=0.3.7->langchain-pinecone) (1.5.0)\n",
      "Requirement already satisfied: tomli>=1 in c:\\users\\hp\\anaconda3\\envs\\chatbot\\lib\\site-packages (from pytest<9,>=7->langchain-tests<1.0.0,>=0.3.7->langchain-pinecone) (2.2.1)\n",
      "Requirement already satisfied: six>=1.5 in c:\\users\\hp\\anaconda3\\envs\\chatbot\\lib\\site-packages (from python-dateutil>=2.5.3->pinecone<7.0.0,>=6.0.0->pinecone[async]<7.0.0,>=6.0.0->langchain-pinecone) (1.17.0)\n",
      "Requirement already satisfied: propcache>=0.2.1 in c:\\users\\hp\\anaconda3\\envs\\chatbot\\lib\\site-packages (from yarl<2.0,>=1.12.0->aiohttp<3.11,>=3.10->langchain-pinecone) (0.3.1)\n",
      "Requirement already satisfied: charset-normalizer<4,>=2 in c:\\users\\hp\\anaconda3\\envs\\chatbot\\lib\\site-packages (from requests<3,>=2->langsmith<0.4,>=0.1.125->langchain-core<1.0.0,>=0.3.34->langchain-pinecone) (3.4.1)\n",
      "Requirement already satisfied: sniffio>=1.1 in c:\\users\\hp\\anaconda3\\envs\\chatbot\\lib\\site-packages (from anyio->httpx<1,>=0.25.0->langchain-tests<1.0.0,>=0.3.7->langchain-pinecone) (1.3.1)\n",
      "Note: you may need to restart the kernel to use updated packages.\n"
     ]
    },
    {
     "name": "stderr",
     "output_type": "stream",
     "text": [
      "WARNING: pinecone 6.0.2 does not provide the extra 'async'\n"
     ]
    }
   ],
   "source": [
    "pip install langchain-pinecone"
   ]
  },
  {
   "cell_type": "code",
   "execution_count": 32,
   "id": "8e0da6bc",
   "metadata": {},
   "outputs": [],
   "source": [
    "from langchain_pinecone import PineconeVectorStore\n",
    "index_name = \"chatbot111\"\n",
    "docssearch = PineconeVectorStore.from_existing_index(\n",
    "    index_name=index_name,\n",
    "    embedding=embeddings\n",
    ")"
   ]
  },
  {
   "cell_type": "code",
   "execution_count": 33,
   "id": "93c7e74d",
   "metadata": {},
   "outputs": [],
   "source": [
    "# load existing index\n",
    "from langchain_pinecone import PineconeVectorStore\n",
    "#Embed each chunk and upsert the embedding into your pinecone index\n",
    "docsearch = PineconeVectorStore.from_existing_index(\n",
    "        index_name=index_name,\n",
    "        embedding=embeddings\n",
    ")"
   ]
  },
  {
   "cell_type": "code",
   "execution_count": 39,
   "id": "d3b94a60",
   "metadata": {},
   "outputs": [
    {
     "data": {
      "text/plain": [
       "<langchain_pinecone.vectorstores.PineconeVectorStore at 0x1a6eadd5180>"
      ]
     },
     "execution_count": 39,
     "metadata": {},
     "output_type": "execute_result"
    }
   ],
   "source": [
    "docsearch"
   ]
  },
  {
   "cell_type": "code",
   "execution_count": 36,
   "id": "56f07d51",
   "metadata": {},
   "outputs": [],
   "source": [
    "retriever=docsearch.as_retriever(search_type=\"similarity\",search_kwargs={\"k\":30})"
   ]
  },
  {
   "cell_type": "code",
   "execution_count": 37,
   "id": "6d74a3b1",
   "metadata": {},
   "outputs": [],
   "source": [
    "retrieved_docs=retriever.invoke(\"c'est quoi la reglementation?\")"
   ]
  },
  {
   "cell_type": "code",
   "execution_count": 38,
   "id": "7c2cc7db",
   "metadata": {},
   "outputs": [
    {
     "data": {
      "text/plain": [
       "[Document(id='fc6b7c95-8093-48ba-9d79-ffd10b0c52c8', metadata={'author': 'AMMERMAN Zachary', 'creationdate': '2018-10-04T17:52:28-04:00', 'creator': 'Microsoft® Word 2016', 'moddate': '2018-10-04T17:52:28-04:00', 'page': 3.0, 'page_label': '4', 'producer': 'Microsoft® Word 2016', 'source': 'C:\\\\Users\\\\HP\\\\Desktop\\\\doss2\\\\Data\\\\exporter_des_denrees_alimentaires_aux_etats-unis_-_dispositions_reglementaires_sanitaires_et_douanieres2.pdf', 'total_pages': 5.0}, page_content='Elles font l’objet d’une réglementation spécifique (l’usine de production doit avoir mis \\nau point un plan HACCP spécifique) visant à garantir leur bonne conservation. De plus,'),\n",
       " Document(id='00a3820b-6691-49f7-902b-185c30242c1c', metadata={'author': 'mBoufdaila', 'creationdate': '2012-12-19T16:12:32+00:00', 'creator': 'Microsoft® Office Word 2007', 'moddate': '2012-12-19T16:12:32+00:00', 'page': 14.0, 'page_label': '15', 'producer': 'Microsoft® Office Word 2007', 'source': 'C:\\\\Users\\\\HP\\\\Desktop\\\\doss2\\\\Data\\\\livrable-sous-commission-juridique-vf.pdf', 'total_pages': 24.0}, page_content='règlement ; \\n- le montant total toutes taxes comprises ; \\n- les modalités de paiement. \\nIl est interdit de délivrer des factures comportant de faux renseignements'),\n",
       " Document(id='b61117f3-2514-4c52-a883-0fb0cad02106', metadata={'author': 'souad', 'creationdate': '2024-02-28T09:02:59+01:00', 'creator': 'Microsoft® Word 2016', 'moddate': '2024-02-28T09:02:59+01:00', 'page': 18.0, 'page_label': '19', 'producer': 'Microsoft® Word 2016', 'source': 'C:\\\\Users\\\\HP\\\\Desktop\\\\doss2\\\\Data\\\\Sécurité sanitaire des produits alimentaires-1709220420232.pdf', 'total_pages': 26.0}, page_content=\"Sont fixées par voie réglementaire21 les mentions devant être portées \\nsur le registre relatif à l'entretien et la gestion de la culture des produits \\nsusmentionnées ainsi que les modalités de son établissement et les \\nconditions de sa tenue.\"),\n",
       " Document(id='25e9898b-7305-4083-adb3-38ae794029e0', metadata={'author': 'Service économique, pôle agricole, Ambassade de France à Washington', 'creationdate': '2012-12-17T17:46:30-05:00', 'creator': 'Microsoft® Word 2010', 'moddate': '2012-12-17T17:46:30-05:00', 'page': 1.0, 'page_label': '2', 'producer': 'Microsoft® Word 2010', 'source': 'C:\\\\Users\\\\HP\\\\Desktop\\\\doss2\\\\Data\\\\Exporter_des_denrees_alimentaires_aux_Etats_Unis_-_dispositions_reglementaires_sanitaires_et_douanieres_-_maj_dec_12.pdf', 'title': 'Exporter des denrées alimentaires aux Etats-Unis : dispositins réglementaires, sanitaires et douanières', 'total_pages': 5.0}, page_content='sanitaire des autorités françaises \\nn’est exigé par la FDA.'),\n",
       " Document(id='81e5d6f5-0513-47a9-ba81-bb5785afddd8', metadata={'author': 'Service économique, pôle agricole, Ambassade de France à Washington', 'creationdate': '2012-12-17T17:46:30-05:00', 'creator': 'Microsoft® Word 2010', 'moddate': '2012-12-17T17:46:30-05:00', 'page': 3.0, 'page_label': '4', 'producer': 'Microsoft® Word 2010', 'source': 'C:\\\\Users\\\\HP\\\\Desktop\\\\doss2\\\\Data\\\\Exporter_des_denrees_alimentaires_aux_Etats_Unis_-_dispositions_reglementaires_sanitaires_et_douanieres_-_maj_dec_12.pdf', 'title': 'Exporter des denrées alimentaires aux Etats-Unis : dispositins réglementaires, sanitaires et douanières', 'total_pages': 5.0}, page_content='revêtue d’une étiquette préalablement agréée par cette agence.'),\n",
       " Document(id='cb00435a-d497-40bd-8c2f-9b7f97401b8e', metadata={'author': 'Stephane Boyera', 'creationdate': '2024-08-28T14:39:25+01:00', 'creator': 'Microsoft® Word pour Microsoft\\xa0365', 'moddate': '2024-08-28T14:39:25+01:00', 'page': 1.0, 'page_label': '2', 'producer': 'Microsoft® Word pour Microsoft\\xa0365', 'source': 'C:\\\\Users\\\\HP\\\\Desktop\\\\doss2\\\\Data\\\\open_data_manuel_standard_données_1.1_VF.pdf', 'total_pages': 32.0}, page_content='Valeur manquante ........................................................................................................... 27 \\nUnités de mesure ................................................................................................................. 27 \\nRécapitulatif des standards recommandés ......................................................................... 28'),\n",
       " Document(id='3c0a83b2-88c0-4248-ac92-78a181f8e299', metadata={'author': 'souad', 'creationdate': '2024-02-28T09:02:59+01:00', 'creator': 'Microsoft® Word 2016', 'moddate': '2024-02-28T09:02:59+01:00', 'page': 21.0, 'page_label': '22', 'producer': 'Microsoft® Word 2016', 'source': 'C:\\\\Users\\\\HP\\\\Desktop\\\\doss2\\\\Data\\\\Sécurité sanitaire des produits alimentaires-1709220420232.pdf', 'total_pages': 26.0}, page_content='depuis une période minimale de deux (2) ans au sein de ses services centraux ou locaux. \\n Pour ex ercer en qualité d’agent verbalisateur, les personnes susmentionnées doivent \\njustifier avoir suivi une formation continue dans les domaines traités par la loi n° 28 -07 \\nprécitée, selon le programme approuvé à cet effet par le directeur générale de l’ONSSA. »'),\n",
       " Document(id='7359592e-0c6a-407e-add4-ac95b1bb47c8', metadata={'author': 'Hatem', 'creationdate': '2018-11-01T10:08:32+01:00', 'creator': 'PScript5.dll Version 5.2.2', 'moddate': '2018-11-01T10:08:32+01:00', 'page': 1.0, 'page_label': '2', 'producer': 'Acrobat Distiller 19.0 (Windows)', 'source': 'C:\\\\Users\\\\HP\\\\Desktop\\\\doss2\\\\Data\\\\36_Tomatoes_f.pdf', 'title': 'Microsoft Word - 36Tomatoes_2017_f', 'total_pages': 9.0}, page_content='Tout Membre de l’ONU peut participer, sur un pied d’égalité, au x activités du Groupe de travail. Pour de plus \\namples renseignements sur les normes des produits agricoles CEE -ONU, il suffit de consulter le site Web \\n<http://www.unece.org/trade/agr/>. \\n \\nLa présente édition de la norme pour les tomates a été établie à partir du document ECE/CTCS/WP.7/2017/23, \\nrévisé et adopté par le Groupe de travail à sa soixante-treizième session. \\n \\nAlignée avec la norme-cadre (2017).'),\n",
       " Document(id='4c039081-1d42-48e4-9470-a4444b7c9300', metadata={'author': 'Alexandra', 'creationdate': '2009-07-10T15:15:12+02:00', 'creator': 'PScript5.dll Version 5.2.2', 'moddate': '2009-07-10T15:15:12+02:00', 'page': 0.0, 'page_label': '1', 'producer': 'Acrobat Distiller 7.0 (Windows)', 'source': 'C:\\\\Users\\\\HP\\\\Desktop\\\\doss2\\\\Data\\\\marketolea-Note-marche-alimentaire-USA.pdf', 'title': 'OE-MONS - Note marché alimentaire USA.indd', 'total_pages': 8.0}, page_content='sur le marché alimentaire aux Etats-Unis complétée par des données sur le marché de l’huile d’olive et des olives sorties d’une  étude réalisée par \\nUbifrance pour le compte de l’AFIDOL.'),\n",
       " Document(id='6e7b4198-16bf-46f6-84d2-fb3150be937e', metadata={'author': 'Alexandra', 'creationdate': '2009-07-10T15:15:12+02:00', 'creator': 'PScript5.dll Version 5.2.2', 'moddate': '2009-07-10T15:15:12+02:00', 'page': 0.0, 'page_label': '1', 'producer': 'Acrobat Distiller 7.0 (Windows)', 'source': 'C:\\\\Users\\\\HP\\\\Desktop\\\\doss2\\\\Data\\\\marketolea-Note-marche-alimentaire-USA (1).pdf', 'title': 'OE-MONS - Note marché alimentaire USA.indd', 'total_pages': 8.0}, page_content='sur le marché alimentaire aux Etats-Unis complétée par des données sur le marché de l’huile d’olive et des olives sorties d’une  étude réalisée par \\nUbifrance pour le compte de l’AFIDOL.'),\n",
       " Document(id='935ca643-ddae-4cbe-867b-2d3eb82a7e11', metadata={'author': 'mBoufdaila', 'creationdate': '2012-12-19T16:12:32+00:00', 'creator': 'Microsoft® Office Word 2007', 'moddate': '2012-12-19T16:12:32+00:00', 'page': 14.0, 'page_label': '15', 'producer': 'Microsoft® Office Word 2007', 'source': 'C:\\\\Users\\\\HP\\\\Desktop\\\\doss2\\\\Data\\\\livrable-sous-commission-juridique-vf.pdf', 'total_pages': 24.0}, page_content=\"où ladite vente ou prestation du service entrerait dans le cadre de \\nrèglements mensuels à condition de délivrer la facture à la fin de chaque \\nmois. L'acheteur doit réclamer la facture. \\nLa facture doit être rédigée en double exemplaire prénumérotée et tirée \\nd'une série continue ou éditée par un système informatique selon une \\nsérie continue. \\nLe vendeur et l'acheteur d oivent en conserver chacun un exemplaire, \\npendant cinq (5) ans à compter de la date d'établissement de la facture,\"),\n",
       " Document(id='24b0a3f2-f20d-4203-952c-b40fc3a95559', metadata={'author': 'souad', 'creationdate': '2024-02-28T09:02:59+01:00', 'creator': 'Microsoft® Word 2016', 'moddate': '2024-02-28T09:02:59+01:00', 'page': 9.0, 'page_label': '10', 'producer': 'Microsoft® Word 2016', 'source': 'C:\\\\Users\\\\HP\\\\Desktop\\\\doss2\\\\Data\\\\Sécurité sanitaire des produits alimentaires-1709220420232.pdf', 'total_pages': 26.0}, page_content=\"- 10 - \\net mis en vente ou exportés, dans des conditions d'hygiène et de \\nsalubrité propres à préserver leur  qualité et à garantir leur sécurité \\nsanitaire. \\nA cet effet, les établissements et les entreprises doivent être autorisés \\nou agrées, sur le plan sanitaire, par les autorités compétentes avant leur \\nmise en exploitation, dans les formes et modalités fixées p ar voie \\nréglementaire5. \\nToutefois, les établissements et les entreprises dont l'intégralité de la\"),\n",
       " Document(id='05db8cf1-e339-48d4-b9bc-4f750a14b75c', metadata={'author': 'souad', 'creationdate': '2024-02-28T09:02:59+01:00', 'creator': 'Microsoft® Word 2016', 'moddate': '2024-02-28T09:02:59+01:00', 'page': 14.0, 'page_label': '15', 'producer': 'Microsoft® Word 2016', 'source': 'C:\\\\Users\\\\HP\\\\Desktop\\\\doss2\\\\Data\\\\Sécurité sanitaire des produits alimentaires-1709220420232.pdf', 'total_pages': 26.0}, page_content='procéder lui-même au rappel des produits et/ou lots concernés, en informant les services et \\nautorités sus mentionnés des raisons de ce rappel. »'),\n",
       " Document(id='3914b979-ef84-491c-b8f1-82c28a17011d', metadata={'author': 'souad', 'creationdate': '2024-02-28T09:02:59+01:00', 'creator': 'Microsoft® Word 2016', 'moddate': '2024-02-28T09:02:59+01:00', 'page': 14.0, 'page_label': '15', 'producer': 'Microsoft® Word 2016', 'source': 'C:\\\\Users\\\\HP\\\\Desktop\\\\doss2\\\\Data\\\\Sécurité sanitaire des produits alimentaires-1709220420232.pdf', 'total_pages': 26.0}, page_content=\"- 15 - \\nsans délai, les autorités compétentes, qui pren nent toutes les mesures \\nappropriées pour imposer des restrictions à sa mise sur le marché \\nnational ou pour en exiger le retrait ou pour en interdire l'exportation. \\nDans le cas où il n'est pas procédé au retrait, les autorités compétentes \\nprocèdent au retrait dudit produit ou aliment aux frais du producteur ou \\ndu responsable de sa mise sur le marché. \\nDans tous les cas, il fournit toutes informations sur les mesures qu'il\"),\n",
       " Document(id='5047c7c8-eae8-4b57-be85-22d00800585e', metadata={'author': 'mBoufdaila', 'creationdate': '2012-12-19T16:12:32+00:00', 'creator': 'Microsoft® Office Word 2007', 'moddate': '2012-12-19T16:12:32+00:00', 'page': 12.0, 'page_label': '13', 'producer': 'Microsoft® Office Word 2007', 'source': 'C:\\\\Users\\\\HP\\\\Desktop\\\\doss2\\\\Data\\\\livrable-sous-commission-juridique-vf.pdf', 'total_pages': 24.0}, page_content='VI.- Les contribuables soumis à l’impôt sur le revenu selon  le régime du \\nrésultat net simplifié, visé à l’article 38 ci -dessus, doivent tenir, de \\nmanière régulière, un ou plusieurs registres tenus régulièrement et sur \\nlesquels sont \\nenregistrées toutes les sommes perçues au titre des ventes, des travaux \\net des serv ices effectués, ainsi que celles qui sont versées au titre des \\nachats, des frais de personnel et des autres charges d’exploitation.'),\n",
       " Document(id='fc5f5bec-51ef-45cd-8f41-1519f52cc061', metadata={'author': 'mBoufdaila', 'creationdate': '2012-12-19T16:12:32+00:00', 'creator': 'Microsoft® Office Word 2007', 'moddate': '2012-12-19T16:12:32+00:00', 'page': 5.0, 'page_label': '6', 'producer': 'Microsoft® Office Word 2007', 'source': 'C:\\\\Users\\\\HP\\\\Desktop\\\\doss2\\\\Data\\\\livrable-sous-commission-juridique-vf.pdf', 'total_pages': 24.0}, page_content='pièces manquantes pour la 1 ère \\nfois devant les commissions \\nlocale et nationale de recours \\nfiscal. \\n \\n \\nDroit de constatation accordé à'),\n",
       " Document(id='95f34693-88e6-43e0-a8b6-356f837c5737', metadata={'author': 'souad', 'creationdate': '2024-02-28T09:02:59+01:00', 'creator': 'Microsoft® Word 2016', 'moddate': '2024-02-28T09:02:59+01:00', 'page': 8.0, 'page_label': '9', 'producer': 'Microsoft® Word 2016', 'source': 'C:\\\\Users\\\\HP\\\\Desktop\\\\doss2\\\\Data\\\\Sécurité sanitaire des produits alimentaires-1709220420232.pdf', 'total_pages': 26.0}, page_content='portant sur le produit ou l’aliment pour animaux qu’il a importé, de rappeler celui-ci après son \\nadmission sur le territoire national. »'),\n",
       " Document(id='93b9b5f0-2229-445f-91b8-098f93df9bc4', metadata={'author': 'mBoufdaila', 'creationdate': '2012-12-19T16:12:32+00:00', 'creator': 'Microsoft® Office Word 2007', 'moddate': '2012-12-19T16:12:32+00:00', 'page': 16.0, 'page_label': '17', 'producer': 'Microsoft® Office Word 2007', 'source': 'C:\\\\Users\\\\HP\\\\Desktop\\\\doss2\\\\Data\\\\livrable-sous-commission-juridique-vf.pdf', 'total_pages': 24.0}, page_content='- L’équivalence juridique existe entre l’écrit sous format papier et celui sur support électronique sous réserve que ce dernier respecte les \\nconditions de la réglementation en vigueur. \\n- Les mentions obligatoires des documents commerciaux sur support électronique doivent être les mêmes sur lesdits documents sur support \\npapier. \\n- La focalisation sur la facture comme moyen de preuve comptable  et fiscal. Le bon de commande, le bon de livraison et le dev is ne sont \\npas abordés en détail.'),\n",
       " Document(id='3f31d0a8-cc37-4cc4-9fa4-15f84dbebc61', metadata={'author': 'MAPAQ', 'creationdate': '2018-02-20T09:14:58-05:00', 'creator': 'Adobe InDesign CS6 (Macintosh)', 'moddate': '2018-02-21T14:25:11-05:00', 'page': 0.0, 'page_label': '1', 'producer': 'Adobe PDF Library 10.0.1', 'source': 'C:\\\\Users\\\\HP\\\\Desktop\\\\doss2\\\\Data\\\\Viandes_et_volailles.pdf', 'subject': 'Exportation', 'title': 'Exigences réglementaires pour exporter aux États-Unis - Viandes et volailles', 'total_pages': 5.0, 'trapped': '/False'}, page_content='intErdictions Et rEstrictions\\nLes autorités réglementaires interdisent certains emballages, certains pro-\\ncédés et certaines coupes de viande. Par exemple, les viandes congelées \\nconditionnées dans des contenants combinés (type de contenant utilisé \\npour le conditionnement dans la vente en gros des viandes) ne peuvent \\npas être exportées aux États-Unis, sauf si le produit est congelé de manière \\nque l’on puisse en retirer des morceaux pour l’inspection sans devoir dé-'),\n",
       " Document(id='c29a85f8-b42f-4c08-bd55-5714497270cc', metadata={'author': 'BlotR', 'creationdate': '2022-02-08T16:13:39+01:00', 'creator': 'PyPDF', 'moddate': '2022-02-24T12:06:48+01:00', 'page': 3.0, 'page_label': '4', 'producer': 'Microsoft: Print To PDF', 'source': 'C:\\\\Users\\\\HP\\\\Desktop\\\\doss2\\\\Data\\\\FI_202202 - DESPCTP - Pompes a chaleur Mitsubishi Electric.pdf', 'title': 'Microsoft PowerPoint - FICHE-INFO_DESP.pptx', 'total_pages': 6.0}, page_content='II) et son approbation par un Organisme Habilité (OH).- La réalisation d’uneVérification Initiale (VI)par une Personne Habilitée (PH).- Après la mise en service :- La réalisation desInspections Périodiques (IP)par une Personne Habilitée (PH) selonles périodicités définies dans le Plan d’Inspection (PI).- La réalisation desRequalifications Périodiques (RP)par un Organisme Habilité (OH) aurythme défini dans le Plan d’Inspection.'),\n",
       " Document(id='625a462c-17bc-4976-9db6-d26ec089189a', metadata={'creationdate': '', 'creator': 'PyPDF', 'page': 3.0, 'page_label': '4', 'producer': 'PyPDF', 'source': 'C:\\\\Users\\\\HP\\\\Desktop\\\\doss2\\\\Data\\\\ISO-22311-2012.pdf', 'total_pages': 12.0}, page_content='Normes internationales adoptés par les comités techniques sont soumis aux comités membres pour vote. \\nLeur publication comme Normes internationales requiert l’approbation de 75  % au moins des comités \\nmembres votants.\\nL’attention est appelée sur le fait que certains des éléments du présent document peuvent faire l’objet de \\ndroits de propriété intellectuelle ou de droits analogues. L’ISO ne saurait être tenue pour responsable de'),\n",
       " Document(id='67f5f957-6982-4955-9b28-d5c0ce64f493', metadata={'author': 'mBoufdaila', 'creationdate': '2012-12-19T16:12:32+00:00', 'creator': 'Microsoft® Office Word 2007', 'moddate': '2012-12-19T16:12:32+00:00', 'page': 20.0, 'page_label': '21', 'producer': 'Microsoft® Office Word 2007', 'source': 'C:\\\\Users\\\\HP\\\\Desktop\\\\doss2\\\\Data\\\\livrable-sous-commission-juridique-vf.pdf', 'total_pages': 24.0}, page_content=\"21 \\n \\nL'assujetti qui effectue des livraisons de biens ou des prestations de services   est tenu de délivrer une facture à son cocontractant ou de s'assurer \\nqu'une telle facture est délivrée en son nom et pour son compte, par son cocontractant ou par un tiers.  \\nD’autre part, pour pouvoir émettre cette facture par voie électronique, il faut que son cocontractant accepte le recours à la facture électronique. \\nCet accord préalable doit être établi par écrit.\"),\n",
       " Document(id='792f7f3f-1472-4310-958b-99cff2ca1efe', metadata={'author': 'souad', 'creationdate': '2024-02-28T09:02:59+01:00', 'creator': 'Microsoft® Word 2016', 'moddate': '2024-02-28T09:02:59+01:00', 'page': 9.0, 'page_label': '10', 'producer': 'Microsoft® Word 2016', 'source': 'C:\\\\Users\\\\HP\\\\Desktop\\\\doss2\\\\Data\\\\Sécurité sanitaire des produits alimentaires-1709220420232.pdf', 'total_pages': 26.0}, page_content='alimentaire et du secteur de l’alimentation animale autres que ceux prévus au 1 ) ci-\\ndessus. »'),\n",
       " Document(id='18749ff3-a185-4aad-ae4d-83a29141bfda', metadata={'author': 'BlotR', 'creationdate': '2022-02-08T16:13:39+01:00', 'creator': 'PyPDF', 'moddate': '2022-02-24T12:06:48+01:00', 'page': 4.0, 'page_label': '5', 'producer': 'Microsoft: Print To PDF', 'source': 'C:\\\\Users\\\\HP\\\\Desktop\\\\doss2\\\\Data\\\\FI_202202 - DESPCTP - Pompes a chaleur Mitsubishi Electric.pdf', 'title': 'Microsoft PowerPoint - FICHE-INFO_DESP.pptx', 'total_pages': 6.0}, page_content='possible sans attendre un éventuel contrôle qui pourraitavoir de lourdes conséquences.'),\n",
       " Document(id='a6e53f85-ed31-4800-ab4c-df67fab76642', metadata={'author': 'mBoufdaila', 'creationdate': '2012-12-19T16:12:32+00:00', 'creator': 'Microsoft® Office Word 2007', 'moddate': '2012-12-19T16:12:32+00:00', 'page': 6.0, 'page_label': '7', 'producer': 'Microsoft® Office Word 2007', 'source': 'C:\\\\Users\\\\HP\\\\Desktop\\\\doss2\\\\Data\\\\livrable-sous-commission-juridique-vf.pdf', 'total_pages': 24.0}, page_content='7 \\n \\nprofessionnels se rapportant à des opération s ayant donné ou devant \\ndonner lieu à facturation et procéder à la constatation matérielle des \\néléments physiques de l’exploitation pour rechercher les manquements aux \\nobligations prévues par la législation et la réglementation en vigueur.  \\n \\nLe droit de constatation s’exerce ………………………………………….. \\n \\nL’avis de constatation ………………………………………………………… \\n \\nLes agents précités peuvent demander copie, établie par tous moyens'),\n",
       " Document(id='bf027774-128e-4f2b-8f15-d51db4bd3cc5', metadata={'author': 'BlotR', 'creationdate': '2022-02-08T16:13:39+01:00', 'creator': 'PyPDF', 'moddate': '2022-02-24T12:06:48+01:00', 'page': 2.0, 'page_label': '3', 'producer': 'Microsoft: Print To PDF', 'source': 'C:\\\\Users\\\\HP\\\\Desktop\\\\doss2\\\\Data\\\\FI_202202 - DESPCTP - Pompes a chaleur Mitsubishi Electric.pdf', 'title': 'Microsoft PowerPoint - FICHE-INFO_DESP.pptx', 'total_pages': 6.0}, page_content='possible de trouver sur une Déclaration de Conformité CE une référence àla DESP 97/23/CE.Selon les règles de marquage CE relatif aux équipements sous pression,les déclarations deconformité UE des produits de catégorie de risque≤I ne citent pas systématiquement la DESP .'),\n",
       " Document(id='f0cc7871-d5f5-4c4a-9392-3d74e42d12d4', metadata={'author': 'Alexandra', 'creationdate': '2009-07-10T15:15:12+02:00', 'creator': 'PScript5.dll Version 5.2.2', 'moddate': '2009-07-10T15:15:12+02:00', 'page': 3.0, 'page_label': '4', 'producer': 'Acrobat Distiller 7.0 (Windows)', 'source': 'C:\\\\Users\\\\HP\\\\Desktop\\\\doss2\\\\Data\\\\marketolea-Note-marche-alimentaire-USA.pdf', 'title': 'OE-MONS - Note marché alimentaire USA.indd', 'total_pages': 8.0}, page_content='représentent moins de 40% des ventes alimentaires au détail\\n- des politiques d’achats encore peu centralisées\\n- une distribution dominée par les supermarchés (ils représentent \\nplus de 55% des ventes détail)\\n- une crise qui touche surtout les chaînes de supermarchés en \\nproie à l’agressivité commerciale des discounters, des supercenters \\net des clubs\\n- un consommateur qui considère le prix comme le facteur \\nprioritaire mais qui prête de plus en plus d’attention à la \\ngamme.'),\n",
       " Document(id='4b04c1b9-1e37-40cb-b4b8-f0ff4e0c7589', metadata={'author': 'Alexandra', 'creationdate': '2009-07-10T15:15:12+02:00', 'creator': 'PScript5.dll Version 5.2.2', 'moddate': '2009-07-10T15:15:12+02:00', 'page': 3.0, 'page_label': '4', 'producer': 'Acrobat Distiller 7.0 (Windows)', 'source': 'C:\\\\Users\\\\HP\\\\Desktop\\\\doss2\\\\Data\\\\marketolea-Note-marche-alimentaire-USA (1).pdf', 'title': 'OE-MONS - Note marché alimentaire USA.indd', 'total_pages': 8.0}, page_content='représentent moins de 40% des ventes alimentaires au détail\\n- des politiques d’achats encore peu centralisées\\n- une distribution dominée par les supermarchés (ils représentent \\nplus de 55% des ventes détail)\\n- une crise qui touche surtout les chaînes de supermarchés en \\nproie à l’agressivité commerciale des discounters, des supercenters \\net des clubs\\n- un consommateur qui considère le prix comme le facteur \\nprioritaire mais qui prête de plus en plus d’attention à la \\ngamme.'),\n",
       " Document(id='5ed9ce68-ff76-4f31-8424-f304e152ae80', metadata={'author': 'noumea\\\\aymericd', 'creationdate': '2007-07-19T08:03:51+11:00', 'creator': 'Word', 'moddate': '2007-07-19T08:05:30+11:00', 'page': 0.0, 'page_label': '1', 'producer': 'Mac OS X 10.4.10 Quartz PDFContext', 'source': 'C:\\\\Users\\\\HP\\\\Desktop\\\\doss2\\\\Data\\\\ISO_22000_VF.pdf', 'title': 'Microsoft Word - Article ISO 22000 (V  Ta#13.doc', 'total_pages': 3.0}, page_content='• Elle apporte une dimension internationale.\\n• Elle permet une réduction du nombre de normes et leur harmonisation.\\n• Elle impose une communication structurée et ciblée.\\n• Elle soumet toutes les mesures de maîtrise à l’analyse des dangers.\\n• Elle répond à une attente des industries alimentaires.\\n• Elle comble une lacune entre ISO 9001 et HACCP.\\n• Elle convient à tout type d’entreprise du fait qu’elle impose des résultats et non des\\nmoyens.\\n• Elle se base sur une approche système et non produit.'),\n",
       " Document(id='f33d6dbb-7c56-41c2-a2f5-a00f3623fe6b', metadata={'author': 'souad', 'creationdate': '2024-02-28T09:02:59+01:00', 'creator': 'Microsoft® Word 2016', 'moddate': '2024-02-28T09:02:59+01:00', 'page': 0.0, 'page_label': '1', 'producer': 'Microsoft® Word 2016', 'source': 'C:\\\\Users\\\\HP\\\\Desktop\\\\doss2\\\\Data\\\\Sécurité sanitaire des produits alimentaires-1709220420232.pdf', 'total_pages': 26.0}, page_content='Sécurité sanitaire des produits \\nalimentaires')]"
      ]
     },
     "execution_count": 38,
     "metadata": {},
     "output_type": "execute_result"
    }
   ],
   "source": [
    "retrieved_docs"
   ]
  },
  {
   "cell_type": "code",
   "execution_count": 73,
   "id": "53354dc6",
   "metadata": {},
   "outputs": [
    {
     "name": "stdout",
     "output_type": "stream",
     "text": [
      "Requirement already satisfied: groq in c:\\users\\hp\\anaconda3\\envs\\chatbot\\lib\\site-packages (0.22.0)\n",
      "Requirement already satisfied: anyio<5,>=3.5.0 in c:\\users\\hp\\anaconda3\\envs\\chatbot\\lib\\site-packages (from groq) (4.9.0)\n",
      "Requirement already satisfied: distro<2,>=1.7.0 in c:\\users\\hp\\anaconda3\\envs\\chatbot\\lib\\site-packages (from groq) (1.9.0)\n",
      "Requirement already satisfied: httpx<1,>=0.23.0 in c:\\users\\hp\\anaconda3\\envs\\chatbot\\lib\\site-packages (from groq) (0.28.1)\n",
      "Requirement already satisfied: pydantic<3,>=1.9.0 in c:\\users\\hp\\anaconda3\\envs\\chatbot\\lib\\site-packages (from groq) (2.11.3)\n",
      "Requirement already satisfied: sniffio in c:\\users\\hp\\anaconda3\\envs\\chatbot\\lib\\site-packages (from groq) (1.3.1)\n",
      "Requirement already satisfied: typing-extensions<5,>=4.10 in c:\\users\\hp\\anaconda3\\envs\\chatbot\\lib\\site-packages (from groq) (4.13.2)\n",
      "Requirement already satisfied: exceptiongroup>=1.0.2 in c:\\users\\hp\\anaconda3\\envs\\chatbot\\lib\\site-packages (from anyio<5,>=3.5.0->groq) (1.2.2)\n",
      "Requirement already satisfied: idna>=2.8 in c:\\users\\hp\\anaconda3\\envs\\chatbot\\lib\\site-packages (from anyio<5,>=3.5.0->groq) (3.10)\n",
      "Requirement already satisfied: certifi in c:\\users\\hp\\anaconda3\\envs\\chatbot\\lib\\site-packages (from httpx<1,>=0.23.0->groq) (2025.1.31)\n",
      "Requirement already satisfied: httpcore==1.* in c:\\users\\hp\\anaconda3\\envs\\chatbot\\lib\\site-packages (from httpx<1,>=0.23.0->groq) (1.0.8)\n",
      "Requirement already satisfied: h11<0.15,>=0.13 in c:\\users\\hp\\anaconda3\\envs\\chatbot\\lib\\site-packages (from httpcore==1.*->httpx<1,>=0.23.0->groq) (0.14.0)\n",
      "Requirement already satisfied: annotated-types>=0.6.0 in c:\\users\\hp\\anaconda3\\envs\\chatbot\\lib\\site-packages (from pydantic<3,>=1.9.0->groq) (0.7.0)\n",
      "Requirement already satisfied: pydantic-core==2.33.1 in c:\\users\\hp\\anaconda3\\envs\\chatbot\\lib\\site-packages (from pydantic<3,>=1.9.0->groq) (2.33.1)\n",
      "Requirement already satisfied: typing-inspection>=0.4.0 in c:\\users\\hp\\anaconda3\\envs\\chatbot\\lib\\site-packages (from pydantic<3,>=1.9.0->groq) (0.4.0)\n",
      "Note: you may need to restart the kernel to use updated packages.\n"
     ]
    }
   ],
   "source": [
    "pip install groq"
   ]
  },
  {
   "cell_type": "code",
   "execution_count": 74,
   "id": "3de742b4",
   "metadata": {},
   "outputs": [
    {
     "name": "stdout",
     "output_type": "stream",
     "text": [
      "Collecting langchain-groq\n",
      "  Using cached langchain_groq-0.3.2-py3-none-any.whl.metadata (2.6 kB)\n",
      "Requirement already satisfied: langchain-core<1.0.0,>=0.3.49 in c:\\users\\hp\\anaconda3\\envs\\chatbot\\lib\\site-packages (from langchain-groq) (0.3.52)\n",
      "Requirement already satisfied: groq<1,>=0.4.1 in c:\\users\\hp\\anaconda3\\envs\\chatbot\\lib\\site-packages (from langchain-groq) (0.22.0)\n",
      "Requirement already satisfied: anyio<5,>=3.5.0 in c:\\users\\hp\\anaconda3\\envs\\chatbot\\lib\\site-packages (from groq<1,>=0.4.1->langchain-groq) (4.9.0)\n",
      "Requirement already satisfied: distro<2,>=1.7.0 in c:\\users\\hp\\anaconda3\\envs\\chatbot\\lib\\site-packages (from groq<1,>=0.4.1->langchain-groq) (1.9.0)\n",
      "Requirement already satisfied: httpx<1,>=0.23.0 in c:\\users\\hp\\anaconda3\\envs\\chatbot\\lib\\site-packages (from groq<1,>=0.4.1->langchain-groq) (0.28.1)\n",
      "Requirement already satisfied: pydantic<3,>=1.9.0 in c:\\users\\hp\\anaconda3\\envs\\chatbot\\lib\\site-packages (from groq<1,>=0.4.1->langchain-groq) (2.11.3)\n",
      "Requirement already satisfied: sniffio in c:\\users\\hp\\anaconda3\\envs\\chatbot\\lib\\site-packages (from groq<1,>=0.4.1->langchain-groq) (1.3.1)\n",
      "Requirement already satisfied: typing-extensions<5,>=4.10 in c:\\users\\hp\\anaconda3\\envs\\chatbot\\lib\\site-packages (from groq<1,>=0.4.1->langchain-groq) (4.13.2)\n",
      "Requirement already satisfied: langsmith<0.4,>=0.1.125 in c:\\users\\hp\\anaconda3\\envs\\chatbot\\lib\\site-packages (from langchain-core<1.0.0,>=0.3.49->langchain-groq) (0.3.31)\n",
      "Requirement already satisfied: tenacity!=8.4.0,<10.0.0,>=8.1.0 in c:\\users\\hp\\anaconda3\\envs\\chatbot\\lib\\site-packages (from langchain-core<1.0.0,>=0.3.49->langchain-groq) (9.1.2)\n",
      "Requirement already satisfied: jsonpatch<2.0,>=1.33 in c:\\users\\hp\\anaconda3\\envs\\chatbot\\lib\\site-packages (from langchain-core<1.0.0,>=0.3.49->langchain-groq) (1.33)\n",
      "Requirement already satisfied: PyYAML>=5.3 in c:\\users\\hp\\anaconda3\\envs\\chatbot\\lib\\site-packages (from langchain-core<1.0.0,>=0.3.49->langchain-groq) (6.0.2)\n",
      "Requirement already satisfied: packaging<25,>=23.2 in c:\\users\\hp\\anaconda3\\envs\\chatbot\\lib\\site-packages (from langchain-core<1.0.0,>=0.3.49->langchain-groq) (24.2)\n",
      "Requirement already satisfied: exceptiongroup>=1.0.2 in c:\\users\\hp\\anaconda3\\envs\\chatbot\\lib\\site-packages (from anyio<5,>=3.5.0->groq<1,>=0.4.1->langchain-groq) (1.2.2)\n",
      "Requirement already satisfied: idna>=2.8 in c:\\users\\hp\\anaconda3\\envs\\chatbot\\lib\\site-packages (from anyio<5,>=3.5.0->groq<1,>=0.4.1->langchain-groq) (3.10)\n",
      "Requirement already satisfied: certifi in c:\\users\\hp\\anaconda3\\envs\\chatbot\\lib\\site-packages (from httpx<1,>=0.23.0->groq<1,>=0.4.1->langchain-groq) (2025.1.31)\n",
      "Requirement already satisfied: httpcore==1.* in c:\\users\\hp\\anaconda3\\envs\\chatbot\\lib\\site-packages (from httpx<1,>=0.23.0->groq<1,>=0.4.1->langchain-groq) (1.0.8)\n",
      "Requirement already satisfied: h11<0.15,>=0.13 in c:\\users\\hp\\anaconda3\\envs\\chatbot\\lib\\site-packages (from httpcore==1.*->httpx<1,>=0.23.0->groq<1,>=0.4.1->langchain-groq) (0.14.0)\n",
      "Requirement already satisfied: jsonpointer>=1.9 in c:\\users\\hp\\anaconda3\\envs\\chatbot\\lib\\site-packages (from jsonpatch<2.0,>=1.33->langchain-core<1.0.0,>=0.3.49->langchain-groq) (3.0.0)\n",
      "Requirement already satisfied: orjson<4.0.0,>=3.9.14 in c:\\users\\hp\\anaconda3\\envs\\chatbot\\lib\\site-packages (from langsmith<0.4,>=0.1.125->langchain-core<1.0.0,>=0.3.49->langchain-groq) (3.10.16)\n",
      "Requirement already satisfied: requests<3,>=2 in c:\\users\\hp\\anaconda3\\envs\\chatbot\\lib\\site-packages (from langsmith<0.4,>=0.1.125->langchain-core<1.0.0,>=0.3.49->langchain-groq) (2.32.3)\n",
      "Requirement already satisfied: requests-toolbelt<2.0.0,>=1.0.0 in c:\\users\\hp\\anaconda3\\envs\\chatbot\\lib\\site-packages (from langsmith<0.4,>=0.1.125->langchain-core<1.0.0,>=0.3.49->langchain-groq) (1.0.0)\n",
      "Requirement already satisfied: zstandard<0.24.0,>=0.23.0 in c:\\users\\hp\\anaconda3\\envs\\chatbot\\lib\\site-packages (from langsmith<0.4,>=0.1.125->langchain-core<1.0.0,>=0.3.49->langchain-groq) (0.23.0)\n",
      "Requirement already satisfied: annotated-types>=0.6.0 in c:\\users\\hp\\anaconda3\\envs\\chatbot\\lib\\site-packages (from pydantic<3,>=1.9.0->groq<1,>=0.4.1->langchain-groq) (0.7.0)\n",
      "Requirement already satisfied: pydantic-core==2.33.1 in c:\\users\\hp\\anaconda3\\envs\\chatbot\\lib\\site-packages (from pydantic<3,>=1.9.0->groq<1,>=0.4.1->langchain-groq) (2.33.1)\n",
      "Requirement already satisfied: typing-inspection>=0.4.0 in c:\\users\\hp\\anaconda3\\envs\\chatbot\\lib\\site-packages (from pydantic<3,>=1.9.0->groq<1,>=0.4.1->langchain-groq) (0.4.0)\n",
      "Requirement already satisfied: charset-normalizer<4,>=2 in c:\\users\\hp\\anaconda3\\envs\\chatbot\\lib\\site-packages (from requests<3,>=2->langsmith<0.4,>=0.1.125->langchain-core<1.0.0,>=0.3.49->langchain-groq) (3.4.1)\n",
      "Requirement already satisfied: urllib3<3,>=1.21.1 in c:\\users\\hp\\anaconda3\\envs\\chatbot\\lib\\site-packages (from requests<3,>=2->langsmith<0.4,>=0.1.125->langchain-core<1.0.0,>=0.3.49->langchain-groq) (2.4.0)\n",
      "Using cached langchain_groq-0.3.2-py3-none-any.whl (15 kB)\n",
      "Installing collected packages: langchain-groq\n",
      "Successfully installed langchain-groq-0.3.2\n",
      "Note: you may need to restart the kernel to use updated packages.\n"
     ]
    }
   ],
   "source": [
    "pip install langchain-groq"
   ]
  },
  {
   "cell_type": "code",
   "execution_count": 48,
   "id": "19f17e35",
   "metadata": {},
   "outputs": [],
   "source": [
    "from dotenv import load_dotenv\n",
    "import os\n",
    "from langchain_groq import ChatGroq\n",
    "\n",
    "# Charger les variables d’environnement\n",
    "load_dotenv()\n",
    "\n",
    "llm = ChatGroq(\n",
    "    api_key=os.getenv(\"GROQ_API_KEY\"),\n",
    "    model_name=\"llama3-8b-8192\"\n",
    ")\n"
   ]
  },
  {
   "cell_type": "code",
   "execution_count": 52,
   "id": "b4753295",
   "metadata": {},
   "outputs": [],
   "source": [
    "from langchain.chains import create_retrieval_chain\n",
    "from langchain.chains.combine_documents import create_stuff_documents_chain\n",
    "from langchain_core.prompts import ChatPromptTemplate\n",
    "\n",
    "system_prompt=(\n",
    "          \"you are an assistant for question answering tasks. \" \n",
    "          \"Use the following pieces of retrieved context to answer\"\n",
    "          \"the question. If you don't know the answer, say that you \"\n",
    "          \"don't know.Use three sentences maximun and keep the \"\n",
    "          \"answer concise. \"\n",
    "          \"\\n\\n\"\n",
    "          \"{context}\"\n",
    "\n",
    ")\n",
    "prompt= ChatPromptTemplate.from_messages(\n",
    "        [\n",
    "            (\"system\",system_prompt),\n",
    "            (\"human\",\"{input}\"),\n",
    "\n",
    "        ]\n",
    ")"
   ]
  },
  {
   "cell_type": "code",
   "execution_count": 53,
   "id": "fe66a39e",
   "metadata": {},
   "outputs": [],
   "source": [
    "question_answer_chain=create_stuff_documents_chain(llm,prompt)\n",
    "rag_chain=create_retrieval_chain(retriever,question_answer_chain)"
   ]
  },
  {
   "cell_type": "code",
   "execution_count": null,
   "id": "36c97219",
   "metadata": {},
   "outputs": [
    {
     "name": "stdout",
     "output_type": "stream",
     "text": [
      "The ISO 22000 standard is a international standard for food safety management systems. It provides a framework for ensuring the safety and quality of food products by establishing a system of controls and procedures to prevent foodborne illnesses.\n",
      "\n",
      "The standard is designed to be used by organizations in the food industry, including manufacturers, processors, distributors, and retailers, as well as by governments and regulatory bodies. It helps to identify and manage food safety risks, and to ensure compliance with food safety regulations and laws.\n",
      "\n",
      "The ISO 22000 standard is based on the Hazard Analysis and Critical Control Points (HACCP) system, which is a widely accepted approach to food safety management. It provides a structured approach to identifying and controlling hazards, and to ensuring that food products are safe for consumption.\n",
      "\n",
      "The standard consists of a set of requirements and guidelines that organizations must follow to ensure the safety and quality of their food products. These requirements include:\n",
      "\n",
      "1. Hazard analysis: Identifying potential hazards in the food production process and evaluating their risks.\n",
      "2. Critical control points: Identifying critical points in the production process where hazards can be controlled or eliminated.\n",
      "3. Preventive measures: Establishing procedures to prevent or eliminate hazards at critical control points.\n",
      "4. Monitoring and verification: Monitoring and verifying that preventive measures are effective in controlling hazards.\n",
      "5. Record keeping: Keeping accurate records of all food safety activities and procedures.\n",
      "\n",
      "By following the ISO 22000 standard, organizations can ensure the safety and quality of their food products, and comply with food safety regulations and laws.\n"
     ]
    }
   ],
   "source": [
    "response=rag_chain.invoke({\"input\":\"c'est quoi les normes iso pour la securite sanitaire?\"})\n",
    "print(response[\"answer\"])  "
   ]
  }
 ],
 "metadata": {
  "kernelspec": {
   "display_name": "chatbot",
   "language": "python",
   "name": "python3"
  },
  "language_info": {
   "codemirror_mode": {
    "name": "ipython",
    "version": 3
   },
   "file_extension": ".py",
   "mimetype": "text/x-python",
   "name": "python",
   "nbconvert_exporter": "python",
   "pygments_lexer": "ipython3",
   "version": "3.10.16"
  }
 },
 "nbformat": 4,
 "nbformat_minor": 5
}
